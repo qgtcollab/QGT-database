{
 "cells": [
  {
   "cell_type": "code",
   "execution_count": 1,
   "id": "6961495d",
   "metadata": {},
   "outputs": [],
   "source": [
    "import numpy as np\n",
    "import sys,os  \n",
    "import pandas as pd\n",
    "sys.path.insert(1, '..')\n",
    "\n",
    "import torch\n",
    "torch.set_default_dtype(torch.float64)"
   ]
  },
  {
   "cell_type": "code",
   "execution_count": 2,
   "id": "e1a09b21",
   "metadata": {},
   "outputs": [],
   "source": [
    "# Set path to fitpackG\n",
    "# os.environ['FITPACK']='/work/JAM/moffatea/fitpackG'\n",
    "os.environ['FITPACK']='/Users/ericmoffat/fitpackG'"
   ]
  },
  {
   "cell_type": "code",
   "execution_count": 3,
   "id": "4fa1eeb9",
   "metadata": {},
   "outputs": [
    {
     "name": "stdout",
     "output_type": "stream",
     "text": [
      "loading dvcs data sets Data1\n",
      "loading dvcs data sets Data2\n",
      "loading dvcs data sets Data3\n",
      "{'Data1': {'Unnamed: 0': tensor([0, 1, 2, 3]), 't': tensor([0.1000, 0.3000, 0.5000, 0.8000]), 'Q2': tensor([4, 4, 4, 4]), 'W': tensor([71, 71, 71, 71]), 'value': tensor([29.9000,  8.0000,  2.1300,  0.2700]), 'stat_u': tensor([4.1000, 1.4000, 0.6000, 0.1200]), 'syst_u': tensor([7.1000, 1.4000, 0.6900, 0.1400]), 'col': ['H1', 'H1', 'H1', 'H1'], 'obs': ['dsigma/dt', 'dsigma/dt', 'dsigma/dt', 'dsigma/dt'], 'units': ['nb/GeV2', 'nb/GeV2', 'nb/GeV2', 'nb/GeV2'], 'target': ['proton', 'proton', 'proton', 'proton'], 'beam': ['e+', 'e+', 'e+', 'e+'], 'rs': tensor([300.8800, 300.8800, 300.8800, 300.8800]), 'xB': tensor([0.0008, 0.0008, 0.0008, 0.0008]), 'xi': tensor([0.0004, 0.0004, 0.0004, 0.0004]), 's': tensor([90528.7744, 90528.7744, 90528.7744, 90528.7744]), 'Units': tensor([389379., 389379., 389379., 389379.]), 'beamcharge': ['+', '+', '+', '+'], 'idx': tensor([0, 1, 2, 3])}, 'Data2': {'Unnamed: 0': tensor([0, 1, 2, 3]), 't': tensor([0.1000, 0.3000, 0.5000, 0.8000]), 'Q2': tensor([8, 8, 8, 8]), 'W': tensor([82, 82, 82, 82]), 'value': tensor([13.3000,  3.9900,  0.9000,  0.3600]), 'stat_u': tensor([1.9000, 0.5700, 0.2500, 0.0900]), 'syst_u': tensor([3.4000, 0.6900, 0.3000, 0.1400]), 'col': ['H1', 'H1', 'H1', 'H1'], 'obs': ['dsigma/dt', 'dsigma/dt', 'dsigma/dt', 'dsigma/dt'], 'units': ['nb/GeV2', 'nb/GeV2', 'nb/GeV2', 'nb/GeV2'], 'target': ['proton', 'proton', 'proton', 'proton'], 'beam': ['e+', 'e+', 'e+', 'e+'], 'rs': tensor([318.6987, 318.6987, 318.6987, 318.6987]), 'xB': tensor([0.0012, 0.0012, 0.0012, 0.0012]), 'xi': tensor([0.0006, 0.0006, 0.0006, 0.0006]), 's': tensor([101568.8539, 101568.8539, 101568.8539, 101568.8539]), 'Units': tensor([389379., 389379., 389379., 389379.]), 'beamcharge': ['+', '+', '+', '+'], 'idx': tensor([0, 1, 2, 3])}, 'Data3': {'Unnamed: 0': tensor([0, 1, 2, 3, 4]), 't ': tensor([0.0300, 0.0900, 0.2000, 0.4200, 0.1200]), 'xB': tensor([0.0800, 0.1000, 0.1100, 0.1200, 0.1000]), 'Q2': tensor([2.0000, 2.6000, 3.0000, 3.7000, 2.5000]), 'value': tensor([0.0240, 0.0200, 0.0710, 0.3770, 0.0630]), 'stat_u': tensor([0.0430, 0.0540, 0.0660, 0.1100, 0.0290]), 'syst_u': tensor([0.0220, 0.0220, 0.0280, 0.0810, 0.0280]), 'col': ['HERMES', 'HERMES', 'HERMES', 'HERMES', 'HERMES'], 'obs': ['A_C^{Cos\\\\phi}', 'A_C^{Cos\\\\phi}', 'A_C^{Cos\\\\phi}', 'A_C^{Cos\\\\phi}', 'A_C^{Cos\\\\phi}'], 'units': ['Absolute', 'Absolute', 'Absolute', 'Absolute', 'Absolute'], 'target': ['Proton', 'Proton', 'Proton', 'Proton', 'Proton'], 'beam': ['e+/e-', 'e+/e-', 'e+/e-', 'e+/e-', 'e+/e-'], 'rs': tensor([7.2576, 7.2576, 7.2576, 7.2576, 7.2576]), 'xi': tensor([0.0417, 0.0526, 0.0582, 0.0638, 0.0526]), 's': tensor([52.6730, 52.6730, 52.6730, 52.6730, 52.6730]), 'Units': tensor([1., 1., 1., 1., 1.]), 'beamcharge': ['+/-', '+/-', '+/-', '+/-', '+/-'], 'idx': tensor([0, 1, 2, 3, 4])}}\n"
     ]
    }
   ],
   "source": [
    "from tools.config import conf\n",
    "from obslib.dvcs.reader import READER\n",
    "\n",
    "conf['datasets']={}\n",
    "conf['datasets']['dvcs']={}\n",
    "conf['datasets']['dvcs']['filters']=[]\n",
    "conf['datasets']['dvcs']['filters'].append('t<0.25*Q2')\n",
    "conf['datasets']['dvcs']['csv']={}\n",
    "conf['datasets']['dvcs']['csv']['Data1']='expdata/Ref_03_Table_1a.csv'\n",
    "conf['datasets']['dvcs']['csv']['Data2']='expdata/Ref_03_Table_1b.csv'\n",
    "conf['datasets']['dvcs']['csv']['Data3']='expdata/Ref_06_Table_1.csv'\n",
    "conf['datasets']['dvcs']['norm']={}\n",
    "tab=READER().load_data_sets('dvcs')\n",
    "\n",
    "print(tab)"
   ]
  },
  {
   "cell_type": "code",
   "execution_count": null,
   "id": "0e237ff0",
   "metadata": {},
   "outputs": [],
   "source": []
  }
 ],
 "metadata": {
  "kernelspec": {
   "display_name": "Python 3 (ipykernel)",
   "language": "python",
   "name": "python3"
  },
  "language_info": {
   "codemirror_mode": {
    "name": "ipython",
    "version": 3
   },
   "file_extension": ".py",
   "mimetype": "text/x-python",
   "name": "python",
   "nbconvert_exporter": "python",
   "pygments_lexer": "ipython3",
   "version": "3.8.16"
  }
 },
 "nbformat": 4,
 "nbformat_minor": 5
}
