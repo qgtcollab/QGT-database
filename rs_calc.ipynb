{
  "nbformat": 4,
  "nbformat_minor": 0,
  "metadata": {
    "colab": {
      "provenance": [],
      "gpuType": "T4"
    },
    "kernelspec": {
      "name": "python3",
      "display_name": "Python 3"
    },
    "language_info": {
      "name": "python"
    },
    "accelerator": "GPU"
  },
  "cells": [
    {
      "cell_type": "markdown",
      "source": [
        "This notebook calculates the Root Squared (rs) energy of an experiment."
      ],
      "metadata": {
        "id": "ReHoJ8SDwQp1"
      }
    },
    {
      "cell_type": "code",
      "execution_count": 1,
      "metadata": {
        "id": "ZSG4Vm6mwP9R"
      },
      "outputs": [],
      "source": [
        "import numpy as np"
      ]
    },
    {
      "cell_type": "code",
      "source": [
        "M = 938.2720813 #MeV/c^2, proton mass\n",
        "\n",
        "def rs(Ep,Ee):\n",
        "  return np.sqrt(M**2 + 2*(Ep*Ee + Ee*np.sqrt(Ep**2 - M**2)))"
      ],
      "metadata": {
        "id": "rdGzyeSrwg5K"
      },
      "execution_count": 6,
      "outputs": []
    },
    {
      "cell_type": "markdown",
      "source": [
        "If calculating using a fixed target, Use that Ep = M."
      ],
      "metadata": {
        "id": "Y_nwUFPyyqW6"
      }
    },
    {
      "cell_type": "code",
      "source": [
        "Ep = 820000 #MeV Proton Energy\n",
        "Ee = 27600 #MeV Beam Energy\n",
        "\n",
        "print(rs(Ep,Ee))"
      ],
      "metadata": {
        "colab": {
          "base_uri": "https://localhost:8080/"
        },
        "id": "wDkefnbazA0N",
        "outputId": "57044d51-b84f-4867-e374-ee255303b43e"
      },
      "execution_count": 7,
      "outputs": [
        {
          "output_type": "stream",
          "name": "stdout",
          "text": [
            "300880.1268330043\n"
          ]
        }
      ]
    }
  ]
}