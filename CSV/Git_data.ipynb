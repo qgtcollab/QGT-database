{
  "nbformat": 4,
  "nbformat_minor": 0,
  "metadata": {
    "colab": {
      "provenance": []
    },
    "kernelspec": {
      "name": "python3",
      "display_name": "Python 3"
    },
    "language_info": {
      "name": "python"
    }
  },
  "cells": [
    {
      "cell_type": "code",
      "execution_count": null,
      "metadata": {
        "colab": {
          "base_uri": "https://localhost:8080/"
        },
        "id": "yUDJ-xrmqsMB",
        "outputId": "40d07c86-aa0c-4752-bde9-03df61d6226a"
      },
      "outputs": [
        {
          "output_type": "stream",
          "name": "stdout",
          "text": [
            "Cloning into 'PSU_PHYS496'...\n",
            "remote: Enumerating objects: 836, done.\u001b[K\n",
            "remote: Counting objects: 100% (71/71), done.\u001b[K\n",
            "remote: Compressing objects: 100% (44/44), done.\u001b[K\n",
            "remote: Total 836 (delta 50), reused 33 (delta 27), pack-reused 765\u001b[K\n",
            "Receiving objects: 100% (836/836), 30.50 MiB | 19.85 MiB/s, done.\n",
            "Resolving deltas: 100% (448/448), done.\n"
          ]
        }
      ],
      "source": [
        "!git clone https://github.com/prokudin/PSU_PHYS496.git"
      ]
    },
    {
      "cell_type": "code",
      "source": [
        "import pandas as pd\n",
        "import numpy\n",
        "file_errors_location = './PSU_PHYS496/database/expdata/Ref_18_Table_1.xlsx'\n",
        "df = pd.read_excel(file_errors_location)\n",
        "print(df)"
      ],
      "metadata": {
        "colab": {
          "base_uri": "https://localhost:8080/"
        },
        "id": "1dYTOceD5MzA",
        "outputId": "5738c95e-a0f1-4f8d-a69d-2b430aa49235"
      },
      "execution_count": null,
      "outputs": [
        {
          "output_type": "stream",
          "name": "stdout",
          "text": [
            "          x    Q2     t     phi   value  stat_u  syst_u   col  \\\n",
            "0     0.126  1.11  0.11    7.50  0.0000  0.0000  0.0000  CLAS   \n",
            "1     0.126  1.11  0.11   22.50  0.0000  0.0000  0.0000  CLAS   \n",
            "2     0.126  1.11  0.11   37.50  0.0000  0.0000  0.0000  CLAS   \n",
            "3     0.126  1.11  0.11   55.82  0.0000  0.0000  0.0000  CLAS   \n",
            "4     0.126  1.11  0.11   68.33  8.9354  0.5418  0.7223  CLAS   \n",
            "...     ...   ...   ...     ...     ...     ...     ...   ...   \n",
            "2635  0.475  3.77  0.45  292.77  0.0086  0.0013  0.0020  CLAS   \n",
            "2636  0.475  3.77  0.45  307.78  0.0153  0.0018  0.0020  CLAS   \n",
            "2637  0.475  3.77  0.45  322.77  0.0168  0.0017  0.0019  CLAS   \n",
            "2638  0.475  3.77  0.45  337.68  0.0225  0.0018  0.0023  CLAS   \n",
            "2639  0.475  3.77  0.45  352.55  0.0233  0.0019  0.0015  CLAS   \n",
            "\n",
            "                         obsv    units  target beam  energy (GeV)  \n",
            "0     d4sigma/dQ2 dxb dt dphi  nb/GeV4  proton    e      3.417047  \n",
            "1     d4sigma/dQ2 dxb dt dphi  nb/GeV4  proton    e      3.417047  \n",
            "2     d4sigma/dQ2 dxb dt dphi  nb/GeV4  proton    e      3.417047  \n",
            "3     d4sigma/dQ2 dxb dt dphi  nb/GeV4  proton    e      3.417047  \n",
            "4     d4sigma/dQ2 dxb dt dphi  nb/GeV4  proton    e      3.417047  \n",
            "...                       ...      ...     ...  ...           ...  \n",
            "2635  d4sigma/dQ2 dxb dt dphi  nb/GeV4  proton    e      3.417047  \n",
            "2636  d4sigma/dQ2 dxb dt dphi  nb/GeV4  proton    e      3.417047  \n",
            "2637  d4sigma/dQ2 dxb dt dphi  nb/GeV4  proton    e      3.417047  \n",
            "2638  d4sigma/dQ2 dxb dt dphi  nb/GeV4  proton    e      3.417047  \n",
            "2639  d4sigma/dQ2 dxb dt dphi  nb/GeV4  proton    e      3.417047  \n",
            "\n",
            "[2640 rows x 13 columns]\n"
          ]
        }
      ]
    },
    {
      "cell_type": "code",
      "source": [
        "arr = df.to_numpy()\n",
        "graphArr = []\n",
        "print(arr[1])\n",
        "\n",
        "for element in arr:\n",
        "  if element[0]==.185 and element[1] == 1.63 and element[2] == .15:\n",
        "    graphArr.append(element)\n",
        "print(graphArr)"
      ],
      "metadata": {
        "colab": {
          "base_uri": "https://localhost:8080/"
        },
        "id": "ELzoNooQ8JSL",
        "outputId": "7ec64a51-7494-4ec0-ab99-8d3df88ac497"
      },
      "execution_count": null,
      "outputs": [
        {
          "output_type": "stream",
          "name": "stdout",
          "text": [
            "[0.126 1.11 0.11 22.5 0.0 0.0 0.0 'CLAS' 'd4sigma/dQ2 dxb dt dphi'\n",
            " 'nb/GeV4' 'proton' 'e' 3.417046671]\n",
            "[array([0.185, 1.63, 0.15, 7.5, 0.0, 0.0, 0.0, 'CLAS',\n",
            "       'd4sigma/dQ2 dxb dt dphi', 'nb/GeV4', 'proton', 'e', 3.417046671],\n",
            "      dtype=object), array([0.185, 1.63, 0.15, 29.3, 0.0, 0.0, 0.0, 'CLAS',\n",
            "       'd4sigma/dQ2 dxb dt dphi', 'nb/GeV4', 'proton', 'e', 3.417046671],\n",
            "      dtype=object), array([0.185, 1.63, 0.15, 41.34, 0.0, 0.0, 0.0, 'CLAS',\n",
            "       'd4sigma/dQ2 dxb dt dphi', 'nb/GeV4', 'proton', 'e', 3.417046671],\n",
            "      dtype=object), array([0.185, 1.63, 0.15, 53.57, 2.3669, 0.1255, 0.2174, 'CLAS',\n",
            "       'd4sigma/dQ2 dxb dt dphi', 'nb/GeV4', 'proton', 'e', 3.417046671],\n",
            "      dtype=object), array([0.185, 1.63, 0.15, 67.33, 1.5129, 0.0864, 0.1399, 'CLAS',\n",
            "       'd4sigma/dQ2 dxb dt dphi', 'nb/GeV4', 'proton', 'e', 3.417046671],\n",
            "      dtype=object), array([0.185, 1.63, 0.15, 82.07, 1.2012, 0.0695, 0.139, 'CLAS',\n",
            "       'd4sigma/dQ2 dxb dt dphi', 'nb/GeV4', 'proton', 'e', 3.417046671],\n",
            "      dtype=object), array([0.185, 1.63, 0.15, 97.14, 1.0314, 0.0607, 0.0678, 'CLAS',\n",
            "       'd4sigma/dQ2 dxb dt dphi', 'nb/GeV4', 'proton', 'e', 3.417046671],\n",
            "      dtype=object), array([0.185, 1.63, 0.15, 112.21, 0.7139, 0.0568, 0.105, 'CLAS',\n",
            "       'd4sigma/dQ2 dxb dt dphi', 'nb/GeV4', 'proton', 'e', 3.417046671],\n",
            "      dtype=object), array([0.185, 1.63, 0.15, 127.27, 0.5926, 0.0567, 0.0808, 'CLAS',\n",
            "       'd4sigma/dQ2 dxb dt dphi', 'nb/GeV4', 'proton', 'e', 3.417046671],\n",
            "      dtype=object), array([0.185, 1.63, 0.15, 142.33, 0.432, 0.0402, 0.0292, 'CLAS',\n",
            "       'd4sigma/dQ2 dxb dt dphi', 'nb/GeV4', 'proton', 'e', 3.417046671],\n",
            "      dtype=object), array([0.185, 1.63, 0.15, 157.4, 0.4437, 0.0395, 0.0652, 'CLAS',\n",
            "       'd4sigma/dQ2 dxb dt dphi', 'nb/GeV4', 'proton', 'e', 3.417046671],\n",
            "      dtype=object), array([0.185, 1.63, 0.15, 172.47, 0.4609, 0.0466, 0.0614, 'CLAS',\n",
            "       'd4sigma/dQ2 dxb dt dphi', 'nb/GeV4', 'proton', 'e', 3.417046671],\n",
            "      dtype=object), array([0.185, 1.63, 0.15, 187.53, 0.4094, 0.0462, 0.0348, 'CLAS',\n",
            "       'd4sigma/dQ2 dxb dt dphi', 'nb/GeV4', 'proton', 'e', 3.417046671],\n",
            "      dtype=object), array([0.185, 1.63, 0.15, 202.6, 0.4275, 0.04, 0.0392, 'CLAS',\n",
            "       'd4sigma/dQ2 dxb dt dphi', 'nb/GeV4', 'proton', 'e', 3.417046671],\n",
            "      dtype=object), array([0.185, 1.63, 0.15, 217.67, 0.5081, 0.0459, 0.0629, 'CLAS',\n",
            "       'd4sigma/dQ2 dxb dt dphi', 'nb/GeV4', 'proton', 'e', 3.417046671],\n",
            "      dtype=object), array([0.185, 1.63, 0.15, 232.73, 0.5089, 0.0519, 0.0353, 'CLAS',\n",
            "       'd4sigma/dQ2 dxb dt dphi', 'nb/GeV4', 'proton', 'e', 3.417046671],\n",
            "      dtype=object), array([0.185, 1.63, 0.15, 247.79, 0.8021, 0.0621, 0.0959, 'CLAS',\n",
            "       'd4sigma/dQ2 dxb dt dphi', 'nb/GeV4', 'proton', 'e', 3.417046671],\n",
            "      dtype=object), array([0.185, 1.63, 0.15, 262.86, 0.789, 0.0528, 0.0662, 'CLAS',\n",
            "       'd4sigma/dQ2 dxb dt dphi', 'nb/GeV4', 'proton', 'e', 3.417046671],\n",
            "      dtype=object), array([0.185, 1.63, 0.15, 277.93, 0.9986, 0.0628, 0.0685, 'CLAS',\n",
            "       'd4sigma/dQ2 dxb dt dphi', 'nb/GeV4', 'proton', 'e', 3.417046671],\n",
            "      dtype=object), array([0.185, 1.63, 0.15, 292.67, 1.7187, 0.0922, 0.1489, 'CLAS',\n",
            "       'd4sigma/dQ2 dxb dt dphi', 'nb/GeV4', 'proton', 'e', 3.417046671],\n",
            "      dtype=object), array([0.185, 1.63, 0.15, 306.43, 2.3761, 0.1201, 0.1661, 'CLAS',\n",
            "       'd4sigma/dQ2 dxb dt dphi', 'nb/GeV4', 'proton', 'e', 3.417046671],\n",
            "      dtype=object), array([0.185, 1.63, 0.15, 318.66, 0.0, 0.0, 0.0, 'CLAS',\n",
            "       'd4sigma/dQ2 dxb dt dphi', 'nb/GeV4', 'proton', 'e', 3.417046671],\n",
            "      dtype=object), array([0.185, 1.63, 0.15, 330.7, 0.0, 0.0, 0.0, 'CLAS',\n",
            "       'd4sigma/dQ2 dxb dt dphi', 'nb/GeV4', 'proton', 'e', 3.417046671],\n",
            "      dtype=object), array([0.185, 1.63, 0.15, 352.5, 0.0, 0.0, 0.0, 'CLAS',\n",
            "       'd4sigma/dQ2 dxb dt dphi', 'nb/GeV4', 'proton', 'e', 3.417046671],\n",
            "      dtype=object)]\n"
          ]
        }
      ]
    },
    {
      "cell_type": "code",
      "source": [
        "import matplotlib.pyplot as plt\n",
        "\n",
        "x = []\n",
        "y = []\n",
        "y_error = []\n",
        "for i in graphArr:\n",
        "  x.append(i[3])\n",
        "  y.append(i[4])\n",
        "  y_error.append(i[5])\n",
        "# making a simple plot\n",
        "\n",
        "\n",
        "# creating error\n",
        "x_error = 0.5\n",
        "\n",
        "# plotting graph\n",
        "plt.yscale('log')\n",
        "plt.ylim(0.01,7)\n",
        "plt.plot(x, y)\n",
        "plt.errorbar(x, y, yerr = y_error)"
      ],
      "metadata": {
        "colab": {
          "base_uri": "https://localhost:8080/",
          "height": 447
        },
        "id": "0-UBqw02Et3g",
        "outputId": "29c5169e-0bd6-4a3d-abbf-f6bbc9c66d6e"
      },
      "execution_count": null,
      "outputs": [
        {
          "output_type": "execute_result",
          "data": {
            "text/plain": [
              "<ErrorbarContainer object of 3 artists>"
            ]
          },
          "metadata": {},
          "execution_count": 7
        },
        {
          "output_type": "display_data",
          "data": {
            "text/plain": [
              "<Figure size 640x480 with 1 Axes>"
            ],
            "image/png": "[encoded data removed]"
          },
          "metadata": {}
        }
      ]
    }
  ]
}