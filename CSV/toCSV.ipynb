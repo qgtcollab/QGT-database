{
  "nbformat": 4,
  "nbformat_minor": 0,
  "metadata": {
    "colab": {
      "provenance": []
    },
    "kernelspec": {
      "name": "python3",
      "display_name": "Python 3"
    },
    "language_info": {
      "name": "python"
    }
  },
  "cells": [
    {
      "cell_type": "code",
      "execution_count": null,
      "metadata": {
        "id": "lYm03gVZKpKZ"
      },
      "outputs": [],
      "source": [
        "import pandas as pd"
      ]
    },
    {
      "cell_type": "markdown",
      "source": [
        "This block of code takes an individual excel file and creates a CSV file with a name of your choice."
      ],
      "metadata": {
        "id": "MBmHu8FKK-CE"
      }
    },
    {
      "cell_type": "code",
      "source": [
        "import pandas as pd\n",
        "name = 'Ref_14_table_3'\n",
        "path = 'https://github.com/prokudin/PSU_PHYS496/raw/master/database/expdata/' + name + '.xlsx'\n",
        "df = pd.read_excel(path)\n",
        "df.to_csv(name + '.csv')"
      ],
      "metadata": {
        "id": "ZsATdysQK04I"
      },
      "execution_count": null,
      "outputs": []
    }
  ]
}